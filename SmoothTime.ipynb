{
 "cells": [
  {
   "cell_type": "markdown",
   "id": "ff352e3e",
   "metadata": {},
   "source": [
    "## Proof-of-concept for dynamically adjusting social clock to sun clock\n",
    "### Adapted from 'SmoothTime.py' file by Masoud Abdouli\n",
    "### Author: Masoud Abdouli\n",
    "### Author: Harini Subramanian (mainly review)\n"
   ]
  },
  {
   "cell_type": "code",
   "execution_count": 3,
   "id": "7e609b93",
   "metadata": {},
   "outputs": [],
   "source": [
    "from astral import LocationInfo\n",
    "from astral.sun import sun\n",
    "from astral import Observer\n",
    "import datetime\n",
    "import time\n",
    "from tkinter import *\n",
    "from tkinter.ttk import *\n"
   ]
  },
  {
   "cell_type": "code",
   "execution_count": 4,
   "id": "e6c0cacb",
   "metadata": {},
   "outputs": [
    {
     "name": "stdout",
     "output_type": "stream",
     "text": [
      "Current UTC time:  2025-04-19\n",
      "Current local time:  2025-04-19 10:51:38.441408\n"
     ]
    }
   ],
   "source": [
    "# 1. Setting up \n",
    "    # a) the timezone \n",
    "timezone = datetime.timedelta(hours = 3, minutes = 30)\n",
    "\n",
    "    # b) location (latitude, longitude of Tehran, Iran)\n",
    "city = LocationInfo(\"Tehran\", \"Iran\", \"Asia/Tehran\", 35.6892523, 51.3896004)\n",
    "\n",
    "    # c) observer (Defines the location of an observer on Earth.)\n",
    "observer = Observer(latitude = 35.6892523, # city.latitude, \n",
    "                    longitude = 51.3896004) # city.longitude)\n",
    "\n",
    "    # d) in UTC\n",
    "current_utc = datetime.datetime.now().date()\n",
    "print(\"Current UTC time: \", current_utc)\n",
    "\n",
    "    # e) in the current Tehran timezone\n",
    "current_local = datetime.datetime.utcnow() + timezone\n",
    "print(\"Current local time: \", current_local)"
   ]
  },
  {
   "cell_type": "code",
   "execution_count": 5,
   "id": "ef5c382a",
   "metadata": {},
   "outputs": [],
   "source": [
    "# 2. Storing the time of dawn, sunrise, noon and sunset and dusk in UTC:\n",
    "    # a) today\n",
    "c_data = sun(observer, date = current_utc)\n",
    "\n",
    "    # b) tomorrow\n",
    "t_data = sun(observer, date = current_utc + datetime.timedelta(days = 1))\n",
    "\n",
    "    # c) yesterday\n",
    "y_data = sun(observer, date = current_utc - datetime.timedelta(days = 1))\n"
   ]
  },
  {
   "cell_type": "code",
   "execution_count": 6,
   "id": "3114d472",
   "metadata": {},
   "outputs": [
    {
     "name": "stdout",
     "output_type": "stream",
     "text": [
      "Current UTC sunrise time:  2025-04-19 01:56:49.831457+00:00\n",
      "Today UTC sunset time:  2025-04-19 15:10:49.136223+00:00\n",
      "Tomorrow UTC sunset time:  2025-04-20 01:55:34.368985+00:00\n",
      "Yesterday UTC sunset time:  2025-04-18 15:09:58.992443+00:00\n"
     ]
    }
   ],
   "source": [
    "# 3. Extracting the sunrise, noon and sunset times for today, tomorrow and yesterday in UTC\n",
    "    # a) Today's sunrise\n",
    "utc_sunrise = c_data[\"sunrise\"]\n",
    "#utc_noon = (c_data[\"noon\"])\n",
    "print('Current UTC sunrise time: ', utc_sunrise)\n",
    "\n",
    "    # b) Today's sunset\n",
    "utc_sunset = c_data[\"sunset\"]\n",
    "print('Today UTC sunset time: ', utc_sunset)\n",
    "\n",
    "    # c) Tomorrow's sunrise\n",
    "utc_sunrise_t = t_data[\"sunrise\"]\n",
    "print('Tomorrow UTC sunset time: ', utc_sunrise_t)\n",
    "\n",
    "    # d) Yesterday's sunset\n",
    "utc_sunset_y = y_data[\"sunset\"]\n",
    "print('Yesterday UTC sunset time: ', utc_sunset_y)"
   ]
  },
  {
   "cell_type": "code",
   "execution_count": 7,
   "id": "d223255d",
   "metadata": {},
   "outputs": [
    {
     "name": "stdout",
     "output_type": "stream",
     "text": [
      "Today UTC sunlight duration:  13:13:59.304766\n",
      "Tomorrow UTC sunlight duration:  13:16:04.964633\n",
      "Yesterday UTC sunlight duration:  13:11:52.934697\n"
     ]
    }
   ],
   "source": [
    "# 4. Calculating the duration of sunlight for today, tomorrow and yesterday in UTC\n",
    "    # a) Today's sunlight duration\n",
    "sunlight_duration = (c_data[\"sunset\"])-(c_data[\"sunrise\"])\n",
    "print('Today UTC sunlight duration: ', sunlight_duration)\n",
    "\n",
    "    # b) Tomorrow's sunlight duration\n",
    "sunlight_duration_t = (t_data[\"sunset\"])-(t_data[\"sunrise\"])\n",
    "print('Tomorrow UTC sunlight duration: ', sunlight_duration_t)\n",
    "\n",
    "    # c) Yesterday's sunlight duration\n",
    "sunlight_duration_y = (y_data[\"sunset\"])-(y_data[\"sunrise\"])\n",
    "print('Yesterday UTC sunlight duration: ', sunlight_duration_y)"
   ]
  },
  {
   "cell_type": "code",
   "execution_count": 10,
   "id": "10212524",
   "metadata": {},
   "outputs": [
    {
     "name": "stdout",
     "output_type": "stream",
     "text": [
      "Today Tehran sunrise time:  2025-04-19 05:26:49.831457+00:00\n",
      "Today Tehran sunset time:  2025-04-19 18:40:49.136223+00:00\n",
      "Tomorrow Tehran sunrise time:  2025-04-20 05:25:34.368985+00:00\n",
      "Yesterday Tehran sunset time:  2025-04-18 18:39:58.992443+00:00\n"
     ]
    }
   ],
   "source": [
    "# 5. Calculating sunrise and sunset times as in step 4) to the current timezone\n",
    "    # a) Today's sunrise time in Tehran timezone\n",
    "real_sunrise = utc_sunrise + timezone\n",
    "#real_noon = utc_noon + timezone\n",
    "print('Today Tehran sunrise time: ', real_sunrise)\n",
    "\n",
    "    # b) Today's sunset time in Tehran timezone\n",
    "real_sunset = utc_sunset + timezone\n",
    "print('Today Tehran sunset time: ', real_sunset)\n",
    "\n",
    "    # c) Tomorrow's sunrise time in Tehran timezone\n",
    "real_sunrise_t = utc_sunrise_t + timezone\n",
    "print('Tomorrow Tehran sunrise time: ', real_sunrise_t)\n",
    "\n",
    "    # d) Yesterday's sunset time in Tehran timezone\n",
    "real_sunset_y = utc_sunset_y + timezone\n",
    "print('Yesterday Tehran sunset time: ', real_sunset_y)"
   ]
  },
  {
   "cell_type": "code",
   "execution_count": 13,
   "id": "c202302c",
   "metadata": {},
   "outputs": [
    {
     "name": "stdout",
     "output_type": "stream",
     "text": [
      "Exact sunrise time in Tehran:  05:26:49.831457\n",
      "Exact sunset time in Tehran:  18:40:49.136223\n",
      "Exact sunrise time in Tehran for tomorrow:  05:25:34.368985\n",
      "Exact sunset time in Tehran for yesterday:  18:39:58.992443\n"
     ]
    }
   ],
   "source": [
    "# 6. Extracting the time component from the datetime objects\n",
    "    # a) Exact sunrise time in Tehran\n",
    "sunrise_time = datetime.datetime.time(real_sunrise)\n",
    "#noon_time = datetime.datetime.time(real_noon)\n",
    "print('Exact sunrise time in Tehran: ', sunrise_time)\n",
    "\n",
    "    # b) Exact sunset time in Tehran\n",
    "sunset_time = datetime.datetime.time(real_sunset)\n",
    "print('Exact sunset time in Tehran: ', sunset_time)\n",
    "\n",
    "    # c) Exact sunrise time in Tehran for tomorrow\n",
    "sunrise_time_t = datetime.datetime.time(real_sunrise_t)\n",
    "print('Exact sunrise time in Tehran for tomorrow: ', sunrise_time_t)\n",
    "\n",
    "    # d) Exact sunset time in Tehran for yesterday\n",
    "sunset_time_y = datetime.datetime.time(real_sunset_y)\n",
    "print('Exact sunset time in Tehran for yesterday: ', sunset_time_y)"
   ]
  },
  {
   "cell_type": "code",
   "execution_count": 20,
   "id": "fb78569a",
   "metadata": {},
   "outputs": [
    {
     "name": "stdout",
     "output_type": "stream",
     "text": [
      "Average noon time:  12:00:00\n"
     ]
    }
   ],
   "source": [
    "# 7. Calculating the average noon time\n",
    "av_noon = datetime.timedelta(hours = 12)\n",
    "print('Average noon time: ', av_noon)"
   ]
  },
  {
   "cell_type": "code",
   "execution_count": 21,
   "id": "c8773e41",
   "metadata": {},
   "outputs": [],
   "source": [
    "# 8. Calculating the polar circle for today\n",
    "    # a) If the duration of sunlight is less than 3 hours but greater than 1 second, the sunrise and sunset times are calculated as follows:\n",
    "if datetime.timedelta(seconds = 1) <= sunlight_duration < datetime.timedelta(hours = 3):\n",
    "        # (i) 'd_prime' is the duration of sunlight doubled\n",
    "    d_prime = 2 * sunlight_duration\n",
    "        # (ii) The new sunrise time is calculated as the average noon time minus half of the duration of sunlight\n",
    "    new_sunrise = av_noon - (d_prime / 2)\n",
    "        # (iii) The new sunset time is calculated as the average noon time plus half of the duration of sunlight\n",
    "    new_sunset = av_noon + (d_prime / 2)\n",
    "\n",
    "    # b) If the duration of sunlight is less than 9 hours but greater than 3 hours, the sunrise and sunset times are calculated as follows:\n",
    "elif datetime.timedelta(hours = 3) <= sunlight_duration < datetime.timedelta(hours = 9):\n",
    "        # (i) 'd_prime' is the duration of sunlight plus 3 hours\n",
    "    d_prime = sunlight_duration + datetime.timedelta(hours = 3)\n",
    "        # (ii) The new sunrise time is calculated as the average noon time minus half of the duration of sunlight\n",
    "    new_sunrise = av_noon - (d_prime / 2)\n",
    "        # (iii) The new sunset time is calculated as the average noon time plus half of the duration of sunlight\n",
    "    new_sunset = av_noon + (d_prime / 2)\n",
    "\n",
    "    # c) If the duration of sunlight is less than 15 hours but greater than 9 hours, the sunrise and sunset times are calculated as follows:\n",
    "elif datetime.timedelta(hours = 9) <= sunlight_duration < datetime.timedelta(hours = 15):\n",
    "        # (i) 'd_prime' is 12 hours\n",
    "    d_prime = datetime.timedelta(hours = 12)\n",
    "        # (ii) The new sunrise time is calculated as the average noon time minus half of the duration of sunlight\n",
    "    new_sunrise = av_noon - (d_prime / 2)\n",
    "        # (iii) The new sunset time is calculated as the average noon time plus half of the duration of sunlight\n",
    "    new_sunset = av_noon + (d_prime / 2)\n",
    "\n",
    "    # d) If the duration of sunlight is less than 21 hours but greater than 15 hours, the sunrise and sunset times are calculated as follows:\n",
    "elif datetime.timedelta(hours = 15) <= sunlight_duration < datetime.timedelta(hours = 21):\n",
    "        # (i) 'd_prime' is the duration of sunlight minus 3 hours\n",
    "    d_prime = sunlight_duration - datetime.timedelta(hours = 3)\n",
    "        # (ii) The new sunrise time is calculated as the average noon time minus half of the duration of sunlight\n",
    "    new_sunrise = av_noon - (d_prime / 2)\n",
    "        # (iii) The new sunset time is calculated as the average noon time plus half of the duration of sunlight\n",
    "    new_sunset = av_noon + (d_prime / 2)\n",
    "\n",
    "    # e) If the duration of sunlight is less than 24 hours but greater than 21 hours, the sunrise and sunset times are calculated as follows:\n",
    "elif datetime.timedelta(hours = 21) <= sunlight_duration < datetime.timedelta(hours = 24):\n",
    "        # (i) 'd_prime' is the duration of sunlight doubled minus 24 hours\n",
    "    d_prime = 2 * sunlight_duration - datetime.timedelta(hours = 24)\n",
    "        # (ii) The new sunrise time is calculated as the average noon time minus half of the duration of sunlight\n",
    "    new_sunrise = av_noon - (d_prime / 2)\n",
    "        # (iii) The new sunset time is calculated as the average noon time plus half of the duration of sunlight\n",
    "    new_sunset = av_noon + (d_prime / 2)\n",
    "else:\n",
    "    print(\"polar circle\")\n",
    "# -------------------------------------\n",
    "# 9. Calculating the polar circle for tomorrow\n",
    "    # a) If the duration of sunlight is less than 3 hours but greater than 1 second, the sunrise and sunset times are calculated as follows:\n",
    "if datetime.timedelta(seconds = 1) <= sunlight_duration_t < datetime.timedelta(hours = 3):\n",
    "        # (i) 'd_prime_t' is the duration of sunlight doubled\n",
    "    d_prime_t = 2 * sunlight_duration_t\n",
    "        # (ii) The new sunrise time is calculated as the average noon time minus half of the duration of sunlight\n",
    "    new_sunrise_t = av_noon - (d_prime_t / 2)\n",
    "\n",
    "    # b) If the duration of sunlight is less than 9 hours but greater than 3 hours, the sunrise and sunset times are calculated as follows:\n",
    "elif datetime.timedelta(hours = 3) <= sunlight_duration_t < datetime.timedelta(hours = 9):\n",
    "        # (i) 'd_prime_t' is the duration of sunlight plus 3 hours\n",
    "    d_prime_t = sunlight_duration_t + datetime.timedelta(hours = 3)\n",
    "        # (ii) The new sunrise time is calculated as the average noon time minus half of the duration of sunlight\n",
    "    new_sunrise_t = av_noon - (d_prime_t / 2)\n",
    "\n",
    "    # c) If the duration of sunlight is less than 15 hours but greater than 9 hours, the sunrise and sunset times are calculated as follows:\n",
    "elif datetime.timedelta(hours = 9) <= sunlight_duration_t < datetime.timedelta(hours = 15):\n",
    "        # (i) 'd_prime_t' is 12 hours\n",
    "    d_prime_t = datetime.timedelta(hours = 12)\n",
    "        # (ii) The new sunrise time is calculated as the average noon time minus half of the duration of sunlight\n",
    "    new_sunrise_t = av_noon - (d_prime_t / 2)\n",
    "    \n",
    "    # d) If the duration of sunlight is less than 21 hours but greater than 15 hours, the sunrise and sunset times are calculated as follows:\n",
    "elif datetime.timedelta(hours = 15) <= sunlight_duration_t < datetime.timedelta(hours = 21):\n",
    "        # (i) 'd_prime_t' is the duration of sunlight minus 3 hours\n",
    "    d_prime_t = sunlight_duration_t - datetime.timedelta(hours = 3)\n",
    "        # (ii) The new sunrise time is calculated as the average noon time minus half of d_prime_t\n",
    "    new_sunrise_t = av_noon - (d_prime_t / 2)\n",
    "    \n",
    "    # e) If the duration of sunlight is less than 24 hours but greater than 21 hours, the sunrise and sunset times are calculated as follows:\n",
    "elif sunlight_duration_t < datetime.timedelta(hours = 24):\n",
    "        # (i) 'd_prime_t' is the duration of sunlight doubled minus 24 hours\n",
    "    d_prime_t = 2 * sunlight_duration_t - datetime.timedelta(hours = 24)\n",
    "        # (ii) The new sunrise time is calculated as the average noon time minus half of d_prime_t\n",
    "    new_sunrise_t = av_noon - (d_prime_t / 2)\n",
    "else:\n",
    "    # f) If none of the above conditions are met, it is assumed that the location is in the polar circle.\n",
    "        # In this case, the sunrise and sunset times are not calculated, and a message is printed.\n",
    "    print(\"polar circle\")\n",
    "\n",
    "# -------------------------------------\n",
    "\n",
    "# 10. Calculating the polar circle for yesterday\n",
    "    # a) If the duration of sunlight is less than 3 hours but greater than 1 second, the sunrise and sunset times are calculated as follows:\n",
    "if datetime.timedelta(seconds = 1) <= sunlight_duration_y < datetime.timedelta(hours = 3):\n",
    "        # (i) 'd_prime_' is twice the duration of the afternoon\n",
    "    d_prime_y = 2 * sunlight_duration_y\n",
    "        # (ii) New sunset time 12pm + half of d_prime_y\n",
    "    new_sunset_y = av_noon + (d_prime_y / 2)\n",
    "    # b) If the duration of sunlight is less than 9 hours but greater than 3 hours, the sunrise and sunset times are calculated as follows:\n",
    "elif datetime.timedelta(hours = 3) <= sunlight_duration_y < datetime.timedelta(hours = 9):\n",
    "        # (i) 'd_prime_y' is the duration of sunlight plus 3 hours\n",
    "    d_prime_y = sunlight_duration_y + datetime.timedelta(hours = 3)\n",
    "        # (ii) New sunset time 12pm + half of d_prime_y\n",
    "    new_sunset_y = av_noon + (d_prime_y / 2)\n",
    "    # c) If the duration of sunlight is less than 15 hours but greater than 9 hours, the sunrise and sunset times are calculated as follows:\n",
    "elif datetime.timedelta(hours = 9) <= sunlight_duration_y < datetime.timedelta(hours = 15):\n",
    "        # (i) 'd_prime_y' is 12 hours\n",
    "    d_prime_y = datetime.timedelta(hours = 12)\n",
    "        # (ii) New sunset time 12pm + half of d_prime_y\n",
    "    new_sunset_y = av_noon + (d_prime_y / 2)\n",
    "    # d) If the duration of sunlight is less than 21 hours but greater than 15 hours, the sunrise and sunset times are calculated as follows:\n",
    "elif datetime.timedelta(hours = 15) <= sunlight_duration_y < datetime.timedelta(hours = 21):\n",
    "        # (i) 'd_prime_y' is the duration of sunlight minus 3 hours\n",
    "    d_prime_y = sunlight_duration_y - datetime.timedelta(hours = 3)\n",
    "        # (ii) New sunset time 12pm + half of d_prime_y\n",
    "    new_sunset_y = av_noon + (d_prime_y / 2)\n",
    "    # e) If the duration of sunlight is less than 24 hours but greater than 21 hours, the sunrise and sunset times are calculated as follows:\n",
    "elif sunlight_duration_y < datetime.timedelta(hours = 24):\n",
    "        # (i) 'd_prime_y' is the duration of sunlight doubled minus 24 hours\n",
    "    d_prime_y = 2 * sunlight_duration_y - datetime.timedelta(hours = 24)\n",
    "        # (ii) New sunset time 12pm + half of d_prime_y\n",
    "    new_sunset_y = av_noon + (d_prime_y / 2)\n",
    "else:\n",
    "    print(\"polar circle\")"
   ]
  },
  {
   "cell_type": "code",
   "execution_count": null,
   "id": "3334a41a",
   "metadata": {},
   "outputs": [],
   "source": []
  }
 ],
 "metadata": {
  "kernelspec": {
   "display_name": "base",
   "language": "python",
   "name": "python3"
  },
  "language_info": {
   "codemirror_mode": {
    "name": "ipython",
    "version": 3
   },
   "file_extension": ".py",
   "mimetype": "text/x-python",
   "name": "python",
   "nbconvert_exporter": "python",
   "pygments_lexer": "ipython3",
   "version": "3.11.4"
  }
 },
 "nbformat": 4,
 "nbformat_minor": 5
}
