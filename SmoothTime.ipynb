{
 "cells": [
  {
   "cell_type": "markdown",
   "id": "ff352e3e",
   "metadata": {},
   "source": [
    "## Proof-of-concept for dynamically adjusting social clock to sun clock\n",
    "### Adapted from 'SmoothTime.py' file by Masoud Abdouli\n",
    "### Author: Masoud Abdouli\n",
    "### Author: Harini Subramanian (mainly review)\n"
   ]
  },
  {
   "cell_type": "code",
   "execution_count": 2,
   "id": "7e609b93",
   "metadata": {},
   "outputs": [],
   "source": [
    "from astral import LocationInfo\n",
    "from astral.sun import sun\n",
    "from astral import Observer\n",
    "import datetime\n",
    "import time\n",
    "from tkinter import *\n",
    "from tkinter.ttk import *\n"
   ]
  },
  {
   "cell_type": "code",
   "execution_count": 3,
   "id": "e6c0cacb",
   "metadata": {},
   "outputs": [
    {
     "name": "stdout",
     "output_type": "stream",
     "text": [
      "Current UTC time:  2025-05-03\n",
      "Current local time:  2025-05-03 07:11:56.494124\n"
     ]
    }
   ],
   "source": [
    "# 1. Setting up \n",
    "    # a) the timezone \n",
    "timezone = datetime.timedelta(hours = 3, minutes = 30)\n",
    "\n",
    "    # b) location (latitude, longitude of Tehran, Iran)\n",
    "city = LocationInfo(\"Tehran\", \"Iran\", \"Asia/Tehran\", 35.6892523, 51.3896004)\n",
    "\n",
    "    # c) observer (Defines the location of an observer on Earth.)\n",
    "observer = Observer(latitude = 35.6892523, # city.latitude, \n",
    "                    longitude = 51.3896004) # city.longitude)\n",
    "\n",
    "    # d) in UTC\n",
    "current_utc = datetime.datetime.now().date()\n",
    "print(\"Current UTC time: \", current_utc)\n",
    "\n",
    "    # e) in the current Tehran timezone\n",
    "current_local = datetime.datetime.utcnow() + timezone\n",
    "print(\"Current local time: \", current_local)"
   ]
  },
  {
   "cell_type": "code",
   "execution_count": 4,
   "id": "ef5c382a",
   "metadata": {},
   "outputs": [],
   "source": [
    "# 2. Storing the time of dawn, sunrise, noon and sunset and dusk in UTC:\n",
    "    # a) today\n",
    "c_data = sun(observer, date = current_utc)\n",
    "\n",
    "    # b) tomorrow\n",
    "t_data = sun(observer, date = current_utc + datetime.timedelta(days = 1))\n",
    "\n",
    "    # c) yesterday\n",
    "y_data = sun(observer, date = current_utc - datetime.timedelta(days = 1))\n"
   ]
  },
  {
   "cell_type": "code",
   "execution_count": 5,
   "id": "3114d472",
   "metadata": {},
   "outputs": [
    {
     "name": "stdout",
     "output_type": "stream",
     "text": [
      "Current UTC sunrise time:  2025-05-03 01:40:35.855776+00:00\n",
      "Today UTC sunset time:  2025-05-03 15:22:34.214012+00:00\n",
      "Tomorrow UTC sunset time:  2025-05-04 01:39:34.070075+00:00\n",
      "Yesterday UTC sunset time:  2025-05-02 15:21:43.919093+00:00\n"
     ]
    }
   ],
   "source": [
    "# 3. Extracting the sunrise, noon and sunset times for today, tomorrow and yesterday in UTC\n",
    "    # a) Today's sunrise\n",
    "utc_sunrise = c_data[\"sunrise\"]\n",
    "#utc_noon = (c_data[\"noon\"])\n",
    "print('Current UTC sunrise time: ', utc_sunrise)\n",
    "\n",
    "    # b) Today's sunset\n",
    "utc_sunset = c_data[\"sunset\"]\n",
    "print('Today UTC sunset time: ', utc_sunset)\n",
    "\n",
    "    # c) Tomorrow's sunrise\n",
    "utc_sunrise_t = t_data[\"sunrise\"]\n",
    "print('Tomorrow UTC sunset time: ', utc_sunrise_t)\n",
    "\n",
    "    # d) Yesterday's sunset\n",
    "utc_sunset_y = y_data[\"sunset\"]\n",
    "print('Yesterday UTC sunset time: ', utc_sunset_y)"
   ]
  },
  {
   "cell_type": "code",
   "execution_count": 6,
   "id": "d223255d",
   "metadata": {},
   "outputs": [
    {
     "name": "stdout",
     "output_type": "stream",
     "text": [
      "Today UTC sunlight duration:  13:41:58.358236\n",
      "Tomorrow UTC sunlight duration:  13:43:50.366048\n",
      "Yesterday UTC sunlight duration:  13:40:05.119876\n"
     ]
    }
   ],
   "source": [
    "# 4. Calculating the duration of sunlight for today, tomorrow and yesterday in UTC\n",
    "    # a) Today's sunlight duration\n",
    "sunlight_duration = (c_data[\"sunset\"])-(c_data[\"sunrise\"])\n",
    "print('Today UTC sunlight duration: ', sunlight_duration)\n",
    "\n",
    "    # b) Tomorrow's sunlight duration\n",
    "sunlight_duration_t = (t_data[\"sunset\"])-(t_data[\"sunrise\"])\n",
    "print('Tomorrow UTC sunlight duration: ', sunlight_duration_t)\n",
    "\n",
    "    # c) Yesterday's sunlight duration\n",
    "sunlight_duration_y = (y_data[\"sunset\"])-(y_data[\"sunrise\"])\n",
    "print('Yesterday UTC sunlight duration: ', sunlight_duration_y)"
   ]
  },
  {
   "cell_type": "code",
   "execution_count": 7,
   "id": "10212524",
   "metadata": {},
   "outputs": [
    {
     "name": "stdout",
     "output_type": "stream",
     "text": [
      "Today Tehran sunrise time:  2025-05-03 05:10:35.855776+00:00\n",
      "Today Tehran sunset time:  2025-05-03 18:52:34.214012+00:00\n",
      "Tomorrow Tehran sunrise time:  2025-05-04 05:09:34.070075+00:00\n",
      "Yesterday Tehran sunset time:  2025-05-02 18:51:43.919093+00:00\n"
     ]
    }
   ],
   "source": [
    "# 5. Calculating sunrise and sunset times as in step 4) to the current timezone\n",
    "    # a) Today's sunrise time in Tehran timezone\n",
    "real_sunrise = utc_sunrise + timezone\n",
    "#real_noon = utc_noon + timezone\n",
    "print('Today Tehran sunrise time: ', real_sunrise)\n",
    "\n",
    "    # b) Today's sunset time in Tehran timezone\n",
    "real_sunset = utc_sunset + timezone\n",
    "print('Today Tehran sunset time: ', real_sunset)\n",
    "\n",
    "    # c) Tomorrow's sunrise time in Tehran timezone\n",
    "real_sunrise_t = utc_sunrise_t + timezone\n",
    "print('Tomorrow Tehran sunrise time: ', real_sunrise_t)\n",
    "\n",
    "    # d) Yesterday's sunset time in Tehran timezone\n",
    "real_sunset_y = utc_sunset_y + timezone\n",
    "print('Yesterday Tehran sunset time: ', real_sunset_y)"
   ]
  },
  {
   "cell_type": "code",
   "execution_count": 8,
   "id": "c202302c",
   "metadata": {},
   "outputs": [
    {
     "name": "stdout",
     "output_type": "stream",
     "text": [
      "Exact sunrise time in Tehran:  05:10:35.855776\n",
      "Exact sunset time in Tehran:  18:52:34.214012\n",
      "Exact sunrise time in Tehran for tomorrow:  05:09:34.070075\n",
      "Exact sunset time in Tehran for yesterday:  18:51:43.919093\n"
     ]
    }
   ],
   "source": [
    "# 6. Extracting the time component from the datetime objects\n",
    "    # a) Exact sunrise time in Tehran\n",
    "sunrise_time = datetime.datetime.time(real_sunrise)\n",
    "#noon_time = datetime.datetime.time(real_noon)\n",
    "print('Exact sunrise time in Tehran: ', sunrise_time)\n",
    "\n",
    "    # b) Exact sunset time in Tehran\n",
    "sunset_time = datetime.datetime.time(real_sunset)\n",
    "print('Exact sunset time in Tehran: ', sunset_time)\n",
    "\n",
    "    # c) Exact sunrise time in Tehran for tomorrow\n",
    "sunrise_time_t = datetime.datetime.time(real_sunrise_t)\n",
    "print('Exact sunrise time in Tehran for tomorrow: ', sunrise_time_t)\n",
    "\n",
    "    # d) Exact sunset time in Tehran for yesterday\n",
    "sunset_time_y = datetime.datetime.time(real_sunset_y)\n",
    "print('Exact sunset time in Tehran for yesterday: ', sunset_time_y)"
   ]
  },
  {
   "cell_type": "code",
   "execution_count": 9,
   "id": "fb78569a",
   "metadata": {},
   "outputs": [
    {
     "name": "stdout",
     "output_type": "stream",
     "text": [
      "Average noon time:  12:00:00\n"
     ]
    }
   ],
   "source": [
    "# 7. Calculating the average noon time\n",
    "av_noon = datetime.timedelta(hours = 12)\n",
    "print('Average noon time: ', av_noon)"
   ]
  },
  {
   "cell_type": "code",
   "execution_count": null,
   "id": "c8773e41",
   "metadata": {},
   "outputs": [],
   "source": [
    "# 8. Calculating the polar circle for today\n",
    "    # a) If the duration of sunlight is less than 3 hours but greater than 1 second, the sunrise and sunset times are calculated as follows:\n",
    "if datetime.timedelta(seconds = 1) <= sunlight_duration < datetime.timedelta(hours = 3):\n",
    "        # (i) 'd_prime' is the duration of sunlight doubled\n",
    "    d_prime = 2 * sunlight_duration\n",
    "        # (ii) The new sunrise time is calculated as the average noon time minus half of `d_prime`\n",
    "    new_sunrise = av_noon - (d_prime / 2)\n",
    "        # (iii) The new sunset time is calculated as the average noon time plus half of `d_prime`\n",
    "    new_sunset = av_noon + (d_prime / 2)\n",
    "\n",
    "    # b) If the duration of sunlight is less than 9 hours but greater than 3 hours, the sunrise and sunset times are calculated as follows:\n",
    "elif datetime.timedelta(hours = 3) <= sunlight_duration < datetime.timedelta(hours = 9):\n",
    "        # (i) 'd_prime' is the duration of sunlight plus 3 hours\n",
    "    d_prime = sunlight_duration + datetime.timedelta(hours = 3)\n",
    "        # (ii) The new sunrise time is calculated as the average noon time minus half of `d_prime`\n",
    "    new_sunrise = av_noon - (d_prime / 2)\n",
    "        # (iii) The new sunset time is calculated as the average noon time plus half of `d_prime`\n",
    "    new_sunset = av_noon + (d_prime / 2)\n",
    "\n",
    "    # c) If the duration of sunlight is less than 15 hours but greater than 9 hours, the sunrise and sunset times are calculated as follows:\n",
    "elif datetime.timedelta(hours = 9) <= sunlight_duration < datetime.timedelta(hours = 15):\n",
    "        # (i) 'd_prime' is 12 hours\n",
    "    d_prime = datetime.timedelta(hours = 12)\n",
    "        # (ii) The new sunrise time is calculated as the average noon time minus half of `d_prime`\n",
    "    new_sunrise = av_noon - (d_prime / 2)\n",
    "        # (iii) The new sunset time is calculated as the average noon time plus half of `d_prime`\n",
    "    new_sunset = av_noon + (d_prime / 2)\n",
    "\n",
    "    # d) If the duration of sunlight is less than 21 hours but greater than 15 hours, the sunrise and sunset times are calculated as follows:\n",
    "elif datetime.timedelta(hours = 15) <= sunlight_duration < datetime.timedelta(hours = 21):\n",
    "        # (i) 'd_prime' is the duration of sunlight minus 3 hours\n",
    "    d_prime = sunlight_duration - datetime.timedelta(hours = 3)\n",
    "        # (ii) The new sunrise time is calculated as the average noon time minus half of `d_prime`\n",
    "    new_sunrise = av_noon - (d_prime / 2)\n",
    "        # (iii) The new sunset time is calculated as the average noon time plus half of `d_prime`\n",
    "    new_sunset = av_noon + (d_prime / 2)\n",
    "\n",
    "    # e) If the duration of sunlight is less than 24 hours but greater than 21 hours, the sunrise and sunset times are calculated as follows:\n",
    "elif datetime.timedelta(hours = 21) <= sunlight_duration < datetime.timedelta(hours = 24):\n",
    "        # (i) 'd_prime' is the duration of sunlight doubled minus 24 hours\n",
    "    d_prime = 2 * sunlight_duration - datetime.timedelta(hours = 24)\n",
    "        # (ii) The new sunrise time is calculated as the average noon time minus half of `d_prime`\n",
    "    new_sunrise = av_noon - (d_prime / 2)\n",
    "        # (iii) The new sunset time is calculated as the average noon time plus half of `d_prime`\n",
    "    new_sunset = av_noon + (d_prime / 2)\n",
    "else:\n",
    "    print(\"polar circle\")\n"
   ]
  },
  {
   "cell_type": "code",
   "execution_count": null,
   "id": "3334a41a",
   "metadata": {},
   "outputs": [],
   "source": [
    "# 9. Calculating the polar circle for tomorrow\n",
    "    # a) If the duration of sunlight is less than 3 hours but greater than 1 second, the sunrise and sunset times are calculated as follows:\n",
    "if datetime.timedelta(seconds = 1) <= sunlight_duration_t < datetime.timedelta(hours = 3):\n",
    "        # (i) 'd_prime_t' is the duration of sunlight doubled\n",
    "    d_prime_t = 2 * sunlight_duration_t\n",
    "        # (ii) The new sunrise time is calculated as the average noon time minus half of `d_prime_t`\n",
    "    new_sunrise_t = av_noon - (d_prime_t / 2)\n",
    "\n",
    "    # b) If the duration of sunlight is less than 9 hours but greater than 3 hours, the sunrise and sunset times are calculated as follows:\n",
    "elif datetime.timedelta(hours = 3) <= sunlight_duration_t < datetime.timedelta(hours = 9):\n",
    "        # (i) 'd_prime_t' is the duration of sunlight plus 3 hours\n",
    "    d_prime_t = sunlight_duration_t + datetime.timedelta(hours = 3)\n",
    "        # (ii) The new sunrise time is calculated as the average noon time minus half of `d_prime_t`\n",
    "    new_sunrise_t = av_noon - (d_prime_t / 2)\n",
    "\n",
    "    # c) If the duration of sunlight is less than 15 hours but greater than 9 hours, the sunrise and sunset times are calculated as follows:\n",
    "elif datetime.timedelta(hours = 9) <= sunlight_duration_t < datetime.timedelta(hours = 15):\n",
    "        # (i) 'd_prime_t' is 12 hours\n",
    "    d_prime_t = datetime.timedelta(hours = 12)\n",
    "        # (ii) The new sunrise time is calculated as the average noon time minus half of `d_prime_t`\n",
    "    new_sunrise_t = av_noon - (d_prime_t / 2)\n",
    "    \n",
    "    # d) If the duration of sunlight is less than 21 hours but greater than 15 hours, the sunrise and sunset times are calculated as follows:\n",
    "elif datetime.timedelta(hours = 15) <= sunlight_duration_t < datetime.timedelta(hours = 21):\n",
    "        # (i) 'd_prime_t' is the duration of sunlight minus 3 hours\n",
    "    d_prime_t = sunlight_duration_t - datetime.timedelta(hours = 3)\n",
    "        # (ii) The new sunrise time is calculated as the average noon time minus half of d_prime_t\n",
    "    new_sunrise_t = av_noon - (d_prime_t / 2)\n",
    "    \n",
    "    # e) If the duration of sunlight is less than 24 hours but greater than 21 hours, the sunrise and sunset times are calculated as follows:\n",
    "elif sunlight_duration_t < datetime.timedelta(hours = 24):\n",
    "        # (i) 'd_prime_t' is the duration of sunlight doubled minus 24 hours\n",
    "    d_prime_t = 2 * sunlight_duration_t - datetime.timedelta(hours = 24)\n",
    "        # (ii) The new sunrise time is calculated as the average noon time minus half of d_prime_t\n",
    "    new_sunrise_t = av_noon - (d_prime_t / 2)\n",
    "else:\n",
    "    # f) If none of the above conditions are met, it is assumed that the location is in the polar circle.\n",
    "        # In this case, the sunrise and sunset times are not calculated, and a message is printed.\n",
    "    print(\"polar circle\")\n"
   ]
  },
  {
   "cell_type": "code",
   "execution_count": null,
   "id": "fe429e83",
   "metadata": {},
   "outputs": [],
   "source": [
    "# 10. Calculating the polar circle for yesterday\n",
    "    # a) If the duration of sunlight is less than 3 hours but greater than 1 second, the sunrise and sunset times are calculated as follows:\n",
    "if datetime.timedelta(seconds = 1) <= sunlight_duration_y < datetime.timedelta(hours = 3):\n",
    "        # (i) 'd_prime_' is twice the duration of the sunlight duration\n",
    "    d_prime_y = 2 * sunlight_duration_y\n",
    "        # (ii) New sunset time 12pm + half of d_prime_y\n",
    "    new_sunset_y = av_noon + (d_prime_y / 2)\n",
    "\n",
    "    # b) If the duration of sunlight is less than 9 hours but greater than 3 hours, the sunrise and sunset times are calculated as follows:\n",
    "elif datetime.timedelta(hours = 3) <= sunlight_duration_y < datetime.timedelta(hours = 9):\n",
    "        # (i) 'd_prime_y' is the duration of sunlight plus 3 hours\n",
    "    d_prime_y = sunlight_duration_y + datetime.timedelta(hours = 3)\n",
    "        # (ii) New sunset time 12pm + half of d_prime_y\n",
    "    new_sunset_y = av_noon + (d_prime_y / 2)\n",
    "\n",
    "    # c) If the duration of sunlight is less than 15 hours but greater than 9 hours, the sunrise and sunset times are calculated as follows:\n",
    "elif datetime.timedelta(hours = 9) <= sunlight_duration_y < datetime.timedelta(hours = 15):\n",
    "        # (i) 'd_prime_y' is 12 hours\n",
    "    d_prime_y = datetime.timedelta(hours = 12)\n",
    "        # (ii) New sunset time 12pm + half of d_prime_y\n",
    "    new_sunset_y = av_noon + (d_prime_y / 2)\n",
    "\n",
    "    # d) If the duration of sunlight is less than 21 hours but greater than 15 hours, the sunrise and sunset times are calculated as follows:\n",
    "elif datetime.timedelta(hours = 15) <= sunlight_duration_y < datetime.timedelta(hours = 21):\n",
    "        # (i) 'd_prime_y' is the duration of sunlight minus 3 hours\n",
    "    d_prime_y = sunlight_duration_y - datetime.timedelta(hours = 3)\n",
    "        # (ii) New sunset time 12pm + half of d_prime_y\n",
    "    new_sunset_y = av_noon + (d_prime_y / 2)\n",
    "    \n",
    "    # e) If the duration of sunlight is less than 24 hours but greater than 21 hours, the sunrise and sunset times are calculated as follows:\n",
    "elif sunlight_duration_y < datetime.timedelta(hours = 24):\n",
    "        # (i) 'd_prime_y' is the duration of sunlight doubled minus 24 hours\n",
    "    d_prime_y = 2 * sunlight_duration_y - datetime.timedelta(hours = 24)\n",
    "        # (ii) New sunset time 12pm + half of d_prime_y\n",
    "    new_sunset_y = av_noon + (d_prime_y / 2)\n",
    "else:\n",
    "    print(\"polar circle\")"
   ]
  },
  {
   "cell_type": "code",
   "execution_count": null,
   "id": "9e9a8a1b",
   "metadata": {},
   "outputs": [],
   "source": [
    "# 11. Converting sunrise and sunset times to seconds\n",
    "    # a) Today's sunrise time converted to seconds\n",
    "va = time.strptime(str(sunrise_time).split(',')[0], '%H:%M:%S.%f')\n",
    "sunrise_time_s = (datetime.timedelta(hours = va.tm_hour, minutes = va.tm_min, seconds = va.tm_sec).total_seconds())\n",
    "\n",
    "    # b) Today's newly-set sunrise time in seconds\n",
    "vb = time.strptime(str(new_sunrise).split(',')[0], '%H:%M:%S')\n",
    "new_sunrise_s = (datetime.timedelta(hours=vb.tm_hour, minutes=vb.tm_min, seconds=vb.tm_sec).total_seconds())\n",
    "\n",
    "    # c) Tomorrow's sunrise time converted to seconds\n",
    "vc = time.strptime(str(sunrise_time_t).split(',')[0], '%H:%M:%S.%f')\n",
    "sunrise_time_t_s = (datetime.timedelta(hours=vc.tm_hour, minutes=vc.tm_min, seconds=vc.tm_sec).total_seconds())\n",
    "\n",
    "    # d) Yesterday's sunset time converted to seconds\n",
    "vd = time.strptime(str(sunset_time_y).split(',')[0], '%H:%M:%S.%f')\n",
    "sunset_time_y_s = (datetime.timedelta(hours=vd.tm_hour, minutes=vd.tm_min, seconds=vd.tm_sec).total_seconds())\n",
    "\n",
    "    # e) Today's sunset time converted to seconds\n",
    "ve = time.strptime(str(sunset_time).split(',')[0], '%H:%M:%S.%f')\n",
    "sunset_time_s = (datetime.timedelta(hours=ve.tm_hour, minutes=ve.tm_min, seconds=ve.tm_sec).total_seconds())\n",
    "\n",
    "    # f) Today's newly-set sunset time in seconds\n",
    "vf = time.strptime(str(new_sunset).split(',')[0], '%H:%M:%S')\n",
    "new_sunset_s = (datetime.timedelta(hours=vf.tm_hour, minutes=vf.tm_min, seconds=vf.tm_sec).total_seconds())\n",
    "\n",
    "    # g) Yesterday's newly-set sunset time converted to seconds\n",
    "vg = time.strptime(str(new_sunset_y).split(',')[0], '%H:%M:%S')\n",
    "new_sunset_y_s = (datetime.timedelta(hours = vg.tm_hour, minutes=vg.tm_min, seconds=vg.tm_sec).total_seconds())\n",
    "\n",
    "    # h) Tomorrow's newly-set sunrise time in seconds\n",
    "vh = time.strptime(str(new_sunrise_t).split(',')[0], '%H:%M:%S')\n",
    "new_sunrise_t_s = (datetime.timedelta(hours=vh.tm_hour, minutes=vh.tm_min, seconds=vh.tm_sec).total_seconds())"
   ]
  },
  {
   "cell_type": "code",
   "execution_count": null,
   "id": "ef7f840f",
   "metadata": {},
   "outputs": [],
   "source": [
    "# 12. Calculating the ratio between:\n",
    "# velocity s'/s\n",
    "    # a) The ratio of today's newly-set sunrise to sunset duration from the actual sunrise to sunset duration\n",
    "v5_sunrise_to_sunset = (new_sunset_s - new_sunrise_s) / (sunset_time_s - sunrise_time_s)\n",
    "\n",
    "    # b) The ratio of today's sunset to tomorrow's newly-set sunrise duration from the actual duration of today's sunset to tomorrow's sunrise duration\n",
    "v6_sunset_to_sunrise = (86400 - new_sunset_s + new_sunrise_t_s) / (86400 - sunset_time_s + sunrise_time_t_s) # 86400 being the no. of seconds in a day"
   ]
  },
  {
   "cell_type": "code",
   "execution_count": null,
   "id": "001e9243",
   "metadata": {},
   "outputs": [],
   "source": [
    "# 13. Formulating the time_equation function    \n",
    "def time_equation():\n",
    "    # a) Getting the current local time\n",
    "    h = datetime.datetime.time(current_local)\n",
    "\n",
    "    # b) Calculating the no. of seconds of the current local time\n",
    "    h_seconds = (h.hour * 60 + h.minute) * 60 + h.second\n",
    "\n",
    "    # c) If the current local time is less than or equal to the sunrise time, the new time is calculated as follows:\n",
    "    if h <= sunrise_time:\n",
    "        # (i) The \n",
    "        new_time_seconds = ((h_seconds + 86400 - sunset_time_y_s) * v6_sunset_to_sunrise + new_sunset_y_s) % 86400\n",
    "        return new_time_seconds\n",
    "    \n",
    "    # d) Else, if the current local time is greater than the sunrise time but less than or equal to the sunset time, the new time is calculated as follows:\n",
    "    elif sunrise_time < h <= sunset_time:\n",
    "        new_time_seconds = (h_seconds - sunrise_time_s) * v5_sunrise_to_sunset + new_sunrise_s\n",
    "        return new_time_seconds\n",
    "    \n",
    "    # e) Else, if the current local time is greater than the sunset time but less than or equal to 23:59:59, the new time is calculated as follows:\n",
    "    elif sunset_time < h <= datetime.time(23, 59, 59, 999999):\n",
    "        new_time_seconds = ((h_seconds - sunset_time_s) * v6_sunset_to_sunrise + new_sunset_s) % 86400\n",
    "        return new_time_seconds\n",
    "    # \n",
    "    # root.after(60000, time_equation) # root?\n",
    "    # root.after(60000, datetime.datetime.utcnow) # root?\n",
    "\n",
    "\n",
    "new_seconds = round(time_equation())\n",
    "new_time2 = datetime.timedelta(seconds = time_equation())\n",
    "new_time3 = (str(new_time2))\n",
    "new_clock = new_time3.split('.')[0]\n"
   ]
  },
  {
   "cell_type": "code",
   "execution_count": null,
   "id": "33689627",
   "metadata": {},
   "outputs": [
    {
     "ename": "KeyboardInterrupt",
     "evalue": "",
     "output_type": "error",
     "traceback": [
      "\u001b[1;31m---------------------------------------------------------------------------\u001b[0m",
      "\u001b[1;31mKeyboardInterrupt\u001b[0m                         Traceback (most recent call last)",
      "Cell \u001b[1;32mIn[19], line 58\u001b[0m\n\u001b[0;32m     56\u001b[0m lbl\u001b[38;5;241m.\u001b[39mpack(anchor\u001b[38;5;241m=\u001b[39m\u001b[38;5;124m'\u001b[39m\u001b[38;5;124mcenter\u001b[39m\u001b[38;5;124m'\u001b[39m)\n\u001b[0;32m     57\u001b[0m time()\n\u001b[1;32m---> 58\u001b[0m root\u001b[38;5;241m.\u001b[39mmainloop()\n",
      "File \u001b[1;32mc:\\Users\\harin\\anaconda3\\Lib\\tkinter\\__init__.py:1485\u001b[0m, in \u001b[0;36mMisc.mainloop\u001b[1;34m(self, n)\u001b[0m\n\u001b[0;32m   1483\u001b[0m \u001b[38;5;28;01mdef\u001b[39;00m \u001b[38;5;21mmainloop\u001b[39m(\u001b[38;5;28mself\u001b[39m, n\u001b[38;5;241m=\u001b[39m\u001b[38;5;241m0\u001b[39m):\n\u001b[0;32m   1484\u001b[0m \u001b[38;5;250m    \u001b[39m\u001b[38;5;124;03m\"\"\"Call the mainloop of Tk.\"\"\"\u001b[39;00m\n\u001b[1;32m-> 1485\u001b[0m     \u001b[38;5;28mself\u001b[39m\u001b[38;5;241m.\u001b[39mtk\u001b[38;5;241m.\u001b[39mmainloop(n)\n",
      "File \u001b[1;32mc:\\Users\\harin\\anaconda3\\Lib\\tkinter\\__init__.py:1943\u001b[0m, in \u001b[0;36mCallWrapper.__call__\u001b[1;34m(self, *args)\u001b[0m\n\u001b[0;32m   1940\u001b[0m     \u001b[38;5;28mself\u001b[39m\u001b[38;5;241m.\u001b[39msubst \u001b[38;5;241m=\u001b[39m subst\n\u001b[0;32m   1941\u001b[0m     \u001b[38;5;28mself\u001b[39m\u001b[38;5;241m.\u001b[39mwidget \u001b[38;5;241m=\u001b[39m widget\n\u001b[1;32m-> 1943\u001b[0m \u001b[38;5;28;01mdef\u001b[39;00m \u001b[38;5;21m__call__\u001b[39m(\u001b[38;5;28mself\u001b[39m, \u001b[38;5;241m*\u001b[39margs):\n\u001b[0;32m   1944\u001b[0m \u001b[38;5;250m    \u001b[39m\u001b[38;5;124;03m\"\"\"Apply first function SUBST to arguments, than FUNC.\"\"\"\u001b[39;00m\n\u001b[0;32m   1945\u001b[0m     \u001b[38;5;28;01mtry\u001b[39;00m:\n",
      "\u001b[1;31mKeyboardInterrupt\u001b[0m: "
     ]
    }
   ],
   "source": [
    "# This function is used to display time on the label\n",
    "root = Tk() # creating a tkinter window\n",
    "root.title('Clock') # setting the title of the window\n",
    "timero = [new_seconds//3600, (new_seconds % 3600)//60, (new_seconds % 60)] # setting the time to be displayed on the label\n",
    "timestr = '00:00:00' # setting the initial time to be displayed on the label\n",
    "pattern = '{0:02d}:{1:02d}:{2:02d}' # setting the pattern for the time to be displayed on the label\n",
    "\n",
    "# This function is used to calculate the speed of the clock\n",
    "def speed():\n",
    "    # a) Getting the current local time\n",
    "    h = datetime.datetime.time(current_local)\n",
    "    # b) if the current local time is earler or equal to the sunrise time, the new speed is calculated as follows:\n",
    "    if h <= sunrise_time or sunset_time < h <= datetime.time(23, 59, 59, 999999):\n",
    "        new_speed = v6_sunset_to_sunrise\n",
    "        return new_speed\n",
    "    # c) Else, if the current local time is later than the sunrise time but earlier than or equal to the sunset time, the new speed is calculated as follows:\n",
    "    elif sunrise_time < h <= sunset_time:\n",
    "        new_speed = v5_sunrise_to_sunset\n",
    "        return new_speed\n",
    "\n",
    "    root.after(60000, speed)\n",
    "    root.after(60000, time_equation)\n",
    "    root.after(60000, datetime.datetime.utcnow)\n",
    "\n",
    "def time():\n",
    "    current_local = datetime.datetime.utcnow() + timezone\n",
    "    root.after(1000, speed)\n",
    "    global timero, pattern\n",
    "    timero[2] += 1\n",
    "    if timero[2] >= 60:\n",
    "        timero[1] += 1\n",
    "        timero[2] = 0\n",
    "        if timero[1] >= 60:\n",
    "            timero[0] += 1\n",
    "            timero[1] = 0\n",
    "            if timero[0] >= 24:\n",
    "                timero[0] = 0\n",
    "                current_local += datetime.timedelta(days=1)\n",
    "    string = pattern.format(timero[0], timero[1], timero[2])\n",
    "    lbl.config(text=string)\n",
    "    lbl.after(round(1000/speed()), time)\n",
    "    root.after(60000, speed)\n",
    "    root.after(60000, time_equation)\n",
    "    root.after(60000, datetime.datetime.utcnow)\n",
    "\n",
    "# Styling the label widget so that clock will look more attractive\n",
    "lbl = Label(root, font=('calibri', 40, 'bold'),\n",
    "            background='purple',\n",
    "            foreground='white')\n",
    "root.after(60000, speed)\n",
    "root.after(60000, time_equation)\n",
    "root.after(60000, datetime.datetime.utcnow)\n",
    "# Placing clock at the centre\n",
    "# of the tkinter window\n",
    "lbl.pack(anchor='center')\n",
    "time()\n",
    "root.mainloop()\n"
   ]
  },
  {
   "cell_type": "code",
   "execution_count": 62,
   "id": "bdce09a5",
   "metadata": {},
   "outputs": [
    {
     "name": "stdout",
     "output_type": "stream",
     "text": [
      "8:58:48\n",
      "32328.324086674344\n",
      "32328\n",
      "08:43:16.707781\n",
      "6:00:00\n",
      "18:00:00\n",
      "SunlightDuration: 13:16:04.964633\n",
      "Sunrise: 2025-04-20 01:55:34.368985+00:00\n",
      "Noon: 2025-04-20 08:33:23+00:00\n",
      "Sunset: 2025-04-20 15:11:39.333618+00:00\n"
     ]
    }
   ],
   "source": [
    "print(new_clock)\n",
    "print(time_equation())\n",
    "print(new_seconds)\n",
    "print(datetime.datetime.time(current_local))\n",
    "print(new_sunrise)\n",
    "print(new_sunset)\n",
    "print(\"SunlightDuration: \" + str(sunlight_duration))\n",
    "print(\"Sunrise: \" + str(c_data[\"sunrise\"]))\n",
    "print(\"Noon: \" + str(c_data[\"noon\"]))\n",
    "print(\"Sunset: \" + str(c_data[\"sunset\"]))"
   ]
  }
 ],
 "metadata": {
  "kernelspec": {
   "display_name": "base",
   "language": "python",
   "name": "python3"
  },
  "language_info": {
   "codemirror_mode": {
    "name": "ipython",
    "version": 3
   },
   "file_extension": ".py",
   "mimetype": "text/x-python",
   "name": "python",
   "nbconvert_exporter": "python",
   "pygments_lexer": "ipython3",
   "version": "3.11.4"
  }
 },
 "nbformat": 4,
 "nbformat_minor": 5
}
